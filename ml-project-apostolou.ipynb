{
 "cells": [
  {
   "cell_type": "code",
   "execution_count": 1,
   "metadata": {},
   "outputs": [
    {
     "name": "stdout",
     "output_type": "stream",
     "text": [
      "Achilles Apostolou project for ML-AAU_CPH-2023\n",
      "~~~~~~~~~~~~~~~~~~~~~~~~~~~~~~~~~~~~~~~~~~~~~~\n"
     ]
    }
   ],
   "source": [
    "print(\"Achilles Apostolou project for ML-AAU_CPH-2023\")\n",
    "print(\"~~~~~~~~~~~~~~~~~~~~~~~~~~~~~~~~~~~~~~~~~~~~~~\")"
   ]
  },
  {
   "cell_type": "code",
   "execution_count": 19,
   "metadata": {},
   "outputs": [],
   "source": [
    "#Using the first Code Shell for Importing libraries\n",
    "import pandas as pd\n",
    "import numpy as np\n",
    "from sklearn.tree import DecisionTreeClassifier, plot_tree\n",
    "from sklearn.model_selection import train_test_split\n",
    "from sklearn.metrics import accuracy_score\n",
    "from sklearn.linear_model import LogisticRegression\n",
    "from sklearn.preprocessing import PolynomialFeatures\n",
    "from sklearn.preprocessing import StandardScaler\n",
    "from sklearn.neighbors import KNeighborsClassifier\n",
    "from sklearn.datasets import make_classification\n",
    "from sklearn.cluster import KMeans\n",
    "from sklearn.metrics import silhouette_score\n",
    "from sklearn.metrics import confusion_matrix\n",
    "import seaborn as sns\n",
    "import random\n",
    "\n",
    "\n",
    "import joblib\n",
    "import matplotlib.pyplot as plt"
   ]
  },
  {
   "cell_type": "code",
   "execution_count": 3,
   "metadata": {},
   "outputs": [
    {
     "data": {
      "text/plain": [
       "<bound method NDFrame.describe of                                          names       date_x  score  \\\n",
       "0                                    Creed III  03/02/2023    73.0   \n",
       "1                     Avatar: The Way of Water  12/15/2022    78.0   \n",
       "2                  The Super Mario Bros. Movie  04/05/2023    76.0   \n",
       "3                                      Mummies  01/05/2023    70.0   \n",
       "4                                    Supercell  03/17/2023    61.0   \n",
       "...                                        ...          ...    ...   \n",
       "10173                       20th Century Women  12/28/2016    73.0   \n",
       "10174  Delta Force 2: The Colombian Connection  08/24/1990    54.0   \n",
       "10175                         The Russia House  12/21/1990    61.0   \n",
       "10176         Darkman II: The Return of Durant  07/11/1995    55.0   \n",
       "10177       The Swan Princess: A Royal Wedding  07/20/2020    70.0   \n",
       "\n",
       "                                                   genre  \\\n",
       "0                                          Drama, Action   \n",
       "1                     Science Fiction, Adventure, Action   \n",
       "2          Animation, Adventure, Family, Fantasy, Comedy   \n",
       "3          Animation, Comedy, Family, Adventure, Fantasy   \n",
       "4                                                 Action   \n",
       "...                                                  ...   \n",
       "10173                                              Drama   \n",
       "10174                                             Action   \n",
       "10175                           Drama, Thriller, Romance   \n",
       "10176  Action, Adventure, Science Fiction, Thriller, ...   \n",
       "10177                         Animation, Family, Fantasy   \n",
       "\n",
       "                                                overview  \\\n",
       "0      After dominating the boxing world, Adonis Cree...   \n",
       "1      Set more than a decade after the events of the...   \n",
       "2      While working underground to fix a water main,...   \n",
       "3      Through a series of unfortunate events, three ...   \n",
       "4      Good-hearted teenager William always lived in ...   \n",
       "...                                                  ...   \n",
       "10173  In 1979 Santa Barbara, California, Dorothea Fi...   \n",
       "10174  When DEA agents are taken captive by a ruthles...   \n",
       "10175  Barley Scott Blair, a Lisbon-based editor of R...   \n",
       "10176  Darkman and Durant return and they hate each o...   \n",
       "10177  Princess Odette and Prince Derek are going to ...   \n",
       "\n",
       "                                                    crew  \\\n",
       "0      Michael B. Jordan, Adonis Creed, Tessa Thompso...   \n",
       "1      Sam Worthington, Jake Sully, Zoe Saldaña, Neyt...   \n",
       "2      Chris Pratt, Mario (voice), Anya Taylor-Joy, P...   \n",
       "3      Óscar Barberán, Thut (voice), Ana Esther Albor...   \n",
       "4      Skeet Ulrich, Roy Cameron, Anne Heche, Dr Quin...   \n",
       "...                                                  ...   \n",
       "10173  Annette Bening, Dorothea Fields, Lucas Jade Zu...   \n",
       "10174  Chuck Norris, Col. Scott McCoy, Billy Drago, R...   \n",
       "10175  Sean Connery, Bartholomew 'Barley' Scott Blair...   \n",
       "10176  Larry Drake, Robert G. Durant, Arnold Vosloo, ...   \n",
       "10177  Nina Herzog, Princess Odette (voice), Yuri Low...   \n",
       "\n",
       "                                    orig_title     status  \\\n",
       "0                                    Creed III   Released   \n",
       "1                     Avatar: The Way of Water   Released   \n",
       "2                  The Super Mario Bros. Movie   Released   \n",
       "3                                       Momias   Released   \n",
       "4                                    Supercell   Released   \n",
       "...                                        ...        ...   \n",
       "10173                       20th Century Women   Released   \n",
       "10174  Delta Force 2: The Colombian Connection   Released   \n",
       "10175                         The Russia House   Released   \n",
       "10176         Darkman II: The Return of Durant   Released   \n",
       "10177       The Swan Princess: A Royal Wedding   Released   \n",
       "\n",
       "                 orig_lang     budget_x       revenue country  \n",
       "0                  English   75000000.0  2.716167e+08      AU  \n",
       "1                  English  460000000.0  2.316795e+09      AU  \n",
       "2                  English  100000000.0  7.244590e+08      AU  \n",
       "3       Spanish, Castilian   12300000.0  3.420000e+07      AU  \n",
       "4                  English   77000000.0  3.409420e+08      US  \n",
       "...                    ...          ...           ...     ...  \n",
       "10173              English    7000000.0  9.353729e+06      US  \n",
       "10174              English    9145817.8  6.698361e+06      US  \n",
       "10175              English   21800000.0  2.299799e+07      US  \n",
       "10176              English  116000000.0  4.756613e+08      US  \n",
       "10177              English   92400000.0  5.394018e+08      GB  \n",
       "\n",
       "[10178 rows x 12 columns]>"
      ]
     },
     "execution_count": 3,
     "metadata": {},
     "output_type": "execute_result"
    }
   ],
   "source": [
    "#Using the second Code Shell for Importing and Inspecting Datasets\n",
    "df = pd.read_csv('imdb_movies.csv')\n",
    "df.shape\n",
    "#print(df.columns)\n",
    "df.describe"
   ]
  },
  {
   "cell_type": "code",
   "execution_count": 49,
   "metadata": {},
   "outputs": [],
   "source": [
    "selected_columns = ['score', 'budget_x', 'country']\n",
    "new_df = df[selected_columns]\n",
    "\n",
    "df_cleaned = df.dropna(subset=['budget_x', 'country', 'score'])\n",
    "\n",
    "#Cleanup of the dataset, kept only the needed columns and stored in a different .csv\n",
    "\n",
    "new_df.to_csv('clean_imdb_movies.csv', index=False)"
   ]
  },
  {
   "cell_type": "code",
   "execution_count": 50,
   "metadata": {},
   "outputs": [
    {
     "data": {
      "text/plain": [
       "<bound method NDFrame.describe of        score     budget_x country\n",
       "0       73.0   75000000.0      AU\n",
       "1       78.0  460000000.0      AU\n",
       "2       76.0  100000000.0      AU\n",
       "3       70.0   12300000.0      AU\n",
       "4       61.0   77000000.0      US\n",
       "...      ...          ...     ...\n",
       "10173   73.0    7000000.0      US\n",
       "10174   54.0    9145817.8      US\n",
       "10175   61.0   21800000.0      US\n",
       "10176   55.0  116000000.0      US\n",
       "10177   70.0   92400000.0      GB\n",
       "\n",
       "[10178 rows x 3 columns]>"
      ]
     },
     "execution_count": 50,
     "metadata": {},
     "output_type": "execute_result"
    }
   ],
   "source": [
    "movies_data = pd.read_csv('clean_imdb_movies.csv')\n",
    "movies_data.shape\n",
    "movies_data.describe"
   ]
  },
  {
   "cell_type": "code",
   "execution_count": 51,
   "metadata": {},
   "outputs": [
    {
     "name": "stderr",
     "output_type": "stream",
     "text": [
      "c:\\Users\\apost\\AppData\\Local\\Programs\\Python\\Python312\\Lib\\site-packages\\sklearn\\base.py:465: UserWarning: X does not have valid feature names, but DecisionTreeClassifier was fitted with feature names\n",
      "  warnings.warn(\n"
     ]
    },
    {
     "data": {
      "text/plain": [
       "array([71.])"
      ]
     },
     "execution_count": 51,
     "metadata": {},
     "output_type": "execute_result"
    }
   ],
   "source": [
    "#building a very simple Decision Tree Classifier model to make basic predictions.\n",
    "#What we're trying to achieve is inputing a budget and predicting its score, in order to find any correlation between a film's budget and how well it is perceived by the audience.\n",
    "#First, let's try with a single value input.\n",
    "\n",
    "\n",
    "X = movies_data[['budget_x']]\n",
    "y = movies_data['score']\n",
    "\n",
    "dtc_model = DecisionTreeClassifier()\n",
    "dtc_model.fit(X,y)\n",
    "\n",
    "pred = dtc_model.predict([[100000000.0]])\n",
    "pred\n"
   ]
  },
  {
   "cell_type": "code",
   "execution_count": 7,
   "metadata": {},
   "outputs": [
    {
     "name": "stdout",
     "output_type": "stream",
     "text": [
      "The accuracy of the DTC trained model is:  15.11 %\n"
     ]
    },
    {
     "data": {
      "text/plain": [
       "['DTC-trained.joblib']"
      ]
     },
     "execution_count": 7,
     "metadata": {},
     "output_type": "execute_result"
    }
   ],
   "source": [
    "#Now, we will try to split the data into train and test data to get more accurate results. \n",
    "#We will also use accuracy_score from sklearn.metrics to calculate our accuracy.\n",
    "\n",
    "X_train, X_test, y_train, y_test = train_test_split(X, y, test_size = 0.5)\n",
    "\n",
    "dtc_model.fit(X_train, y_train)\n",
    "dtc_pred = dtc_model.predict(X_test)\n",
    "\n",
    "acc_score = accuracy_score(y_test, dtc_pred)\n",
    "print(\"The accuracy of the DTC trained model is: \", round(acc_score*100,2), \"%\")\n",
    "\n",
    "#We will save this trained model using the DecisionTreeClassifier method\n",
    "joblib.dump(dtc_model, 'DTC-trained.joblib')"
   ]
  },
  {
   "cell_type": "code",
   "execution_count": null,
   "metadata": {},
   "outputs": [],
   "source": [
    "#In case we want to visualize the decision tree and how it works, we can use the plot_tree function. \n",
    "#Note that because of the large data size, its good to set a max_depth so that the plotting doesnt take too much time.\n",
    "\n",
    "\n",
    "dtc_model=DecisionTreeClassifier(max_depth=2)\n",
    "dtc_model.fit(X_train, y_train)\n",
    "\n",
    "plt.figure(figsize=(12, 8))\n",
    "plot_tree(dtc_model, feature_names=X.columns, filled=True, rounded=True)\n",
    "plt.savefig('decision_tree.png')  # Save the plot as an image file\n",
    "plt.show()"
   ]
  },
  {
   "cell_type": "code",
   "execution_count": null,
   "metadata": {},
   "outputs": [],
   "source": [
    "#We can now try using different Algorithms in order to try and get the prediction Accuracy score up. Decision Tree Classifier is an easy-to-understand model, but our\n",
    "#prediction accuracy was around 10%. Is it because there is no correlation between budget and rating, or is the model we used responsible?"
   ]
  },
  {
   "cell_type": "code",
   "execution_count": 12,
   "metadata": {},
   "outputs": [
    {
     "name": "stdout",
     "output_type": "stream",
     "text": [
      "The accuracy of the LR trained model is:  2.0 %\n"
     ]
    },
    {
     "name": "stderr",
     "output_type": "stream",
     "text": [
      "c:\\Users\\apost\\AppData\\Local\\Programs\\Python\\Python312\\Lib\\site-packages\\sklearn\\linear_model\\_logistic.py:460: ConvergenceWarning: lbfgs failed to converge (status=1):\n",
      "STOP: TOTAL NO. of ITERATIONS REACHED LIMIT.\n",
      "\n",
      "Increase the number of iterations (max_iter) or scale the data as shown in:\n",
      "    https://scikit-learn.org/stable/modules/preprocessing.html\n",
      "Please also refer to the documentation for alternative solver options:\n",
      "    https://scikit-learn.org/stable/modules/linear_model.html#logistic-regression\n",
      "  n_iter_i = _check_optimize_result(\n"
     ]
    },
    {
     "data": {
      "text/plain": [
       "['LR-trained.joblib']"
      ]
     },
     "execution_count": 12,
     "metadata": {},
     "output_type": "execute_result"
    }
   ],
   "source": [
    "#Let's evaluate Linear Algorithms by building a Logistic Regression model and see if the accuracy goes up.\n",
    "\n",
    "X_train, X_test, y_train, y_test = train_test_split(X, y, test_size = 0.5)\n",
    "\n",
    "lr_model = LogisticRegression()\n",
    "lr_model.fit(X_train, y_train)\n",
    "\n",
    "lr_pred = lr_model.predict(X_test)\n",
    "\n",
    "acc_score = accuracy_score(y_test, lr_pred)\n",
    "print(\"The accuracy of the LR trained model is: \", round(acc_score*100,2), \"%\")\n",
    "\n",
    "joblib.dump(lr_model, 'LR-trained.joblib')"
   ]
  },
  {
   "cell_type": "code",
   "execution_count": null,
   "metadata": {},
   "outputs": [],
   "source": []
  },
  {
   "cell_type": "code",
   "execution_count": 52,
   "metadata": {},
   "outputs": [
    {
     "name": "stdout",
     "output_type": "stream",
     "text": [
      "The accuracy of the LR trained model (after scaling the data) is:  5.95 %\n"
     ]
    }
   ],
   "source": [
    "#Apparently using Logistic Regression brings the accuracy further down to 2%. Let's try scaling the data by creating a scaler.\n",
    "\n",
    "scaler = StandardScaler()\n",
    "\n",
    "# Fit and transform the training data\n",
    "X_train_scaled = scaler.fit_transform(X_train)\n",
    "\n",
    "# Transform the test data\n",
    "X_test_scaled = scaler.transform(X_test)\n",
    "\n",
    "lr_model = LogisticRegression()\n",
    "lr_model.fit(X_train_scaled, y_train)\n",
    "\n",
    "lr_pred = lr_model.predict(X_test_scaled)\n",
    "\n",
    "acc_score = accuracy_score(y_test, lr_pred)\n",
    "print(\"The accuracy of the LR trained model (after scaling the data) is: \", round(acc_score*100,2), \"%\")\n"
   ]
  },
  {
   "cell_type": "code",
   "execution_count": 82,
   "metadata": {},
   "outputs": [
    {
     "name": "stdout",
     "output_type": "stream",
     "text": [
      "Mean error: 13.0 (20.5%)\n",
      "The determination is:  0.08\n"
     ]
    }
   ],
   "source": [
    "#After delivery: Polynomial regression\n",
    "#Check for determination instead of accuracy\n",
    "\n",
    "from sklearn.metrics import mean_squared_error\n",
    "from sklearn.pipeline import make_pipeline\n",
    "from sklearn.linear_model import LinearRegression\n",
    "\n",
    "degree = 2\n",
    "\n",
    "polymodel = pd.read_csv('clean_imdb_movies.csv')\n",
    "X = movies_data[['budget_x']]\n",
    "y = movies_data['score']\n",
    "\n",
    "X_train, X_test, y_train, y_test = train_test_split(X, y, test_size = 0.5, random_state=0)\n",
    "\n",
    "polymodel = make_pipeline(PolynomialFeatures(degree), LinearRegression())\n",
    "polymodel.fit(X_train,y_train)\n",
    "\n",
    "y_pred = polymodel.predict(X_test)\n",
    "\n",
    "mse = np.sqrt(mean_squared_error(y_test,y_pred))\n",
    "print(f'Mean error: {mse:3.3} ({mse/np.mean(y_pred)*100:3.3}%)')\n",
    "\n",
    "score = polymodel.score(X_test,y_test)\n",
    "print(\"The determination is: \", round(score,2))\n",
    "\n",
    "##\n",
    "\n",
    "#for degree in range(10):\n",
    "#    polymodel = make_pipeline(PolynomialFeatures(degree), LinearRegression())\n",
    "#    polymodel.fit(X_test,y_train)\n",
    "    \n",
    "#    y_pred = polymodel.predict(X_test)\n",
    "\n",
    "#    mse = np.sqrt(mean_squared_error(y_test,y_pred))\n",
    "#    print(f'Mean error: {mse:3.3} ({mse/np.mean(y_pred)*100:3.3}%)')\n",
    "\n",
    "#    score = polymodel.score(X_test,y_test)\n",
    "#    print(\"for degree=\", degree ,\"\\n The determination is: \", score)\n",
    "\n",
    "#plt.show()"
   ]
  },
  {
   "cell_type": "code",
   "execution_count": 84,
   "metadata": {},
   "outputs": [],
   "source": [
    "import plotly.graph_objects as go\n",
    "from sklearn import neighbors\n",
    "from math import sqrt\n",
    "from sklearn.metrics import mean_squared_error "
   ]
  },
  {
   "cell_type": "code",
   "execution_count": 245,
   "metadata": {},
   "outputs": [
    {
     "name": "stdout",
     "output_type": "stream",
     "text": [
      "The accuracy of the kNN trained model is:  10.71 %\n",
      "The accuracy of the LR trained model (after scaling the data) is:  10.75 %\n",
      "RMSE value for k=  1 is: 14.024506244353741\n",
      "RMSE value for k=  2 is: 12.598569897039095\n",
      "RMSE value for k=  3 is: 11.803629515754976\n",
      "RMSE value for k=  4 is: 11.662297123605336\n",
      "RMSE value for k=  5 is: 11.564809646745376\n",
      "RMSE value for k=  6 is: 11.565416034889797\n",
      "RMSE value for k=  7 is: 11.632596400472494\n",
      "RMSE value for k=  8 is: 11.679298242725164\n",
      "RMSE value for k=  9 is: 11.656822012604456\n",
      "RMSE value for k=  10 is: 11.681213661416134\n",
      "RMSE value for k=  11 is: 11.744565608706958\n",
      "RMSE value for k=  12 is: 11.821184548920959\n",
      "RMSE value for k=  13 is: 11.926619191224727\n",
      "RMSE value for k=  14 is: 12.0136342484061\n",
      "RMSE value for k=  15 is: 12.152691250538016\n",
      "RMSE value for k=  16 is: 12.195718832914007\n",
      "RMSE value for k=  17 is: 12.183052472653372\n",
      "RMSE value for k=  18 is: 12.130995498991009\n",
      "RMSE value for k=  19 is: 12.205162627627482\n",
      "RMSE value for k=  20 is: 12.215256974273357\n",
      "The accuracy of the kNN trained model, where k=4, is:  12.3 %\n"
     ]
    },
    {
     "data": {
      "image/png": "[encoded data removed]",
      "text/plain": [
       "<Figure size 432x288 with 1 Axes>"
      ]
     },
     "metadata": {
      "needs_background": "light"
     },
     "output_type": "display_data"
    }
   ],
   "source": [
    "#Let's try doing the same using k-NN, another supervised learning model. k-NN can be used both for classification and regression problems.\n",
    "\n",
    "knn_model = KNeighborsClassifier(n_neighbors=10)\n",
    "\n",
    "knn_model.fit(X_train, y_train)\n",
    "knn_pred = knn_model.predict(X_test)\n",
    "\n",
    "acc_score = accuracy_score(y_test, knn_pred)\n",
    "print(\"The accuracy of the kNN trained model is: \", round(acc_score*100,2), \"%\")\n",
    "\n",
    "knn_model.fit(X_train_scaled, y_train)\n",
    "knn_pred = knn_model.predict(X_test_scaled)\n",
    "acc_score = accuracy_score(y_test, knn_pred)\n",
    "print(\"The accuracy of the LR trained model (after scaling the data) is: \", round(acc_score*100,2), \"%\")\n",
    "\n",
    "#~~~~~~~~~~~~~~~~~~~~~~~~~~\n",
    "#we have chosen a k-value of 10, but is it ideal?\n",
    "#~~~~~~~~~~~~~~~~~~~~~~~~~~\n",
    "\n",
    "rmse_val = [] #to store the values for different k\n",
    "\n",
    "for k in range(20):\n",
    "    k=k+1\n",
    "    knn_model = neighbors.KNeighborsRegressor(n_neighbors = k)\n",
    "    knn_model.fit(X_train, y_train)\n",
    "    knn_pred = knn_model.predict(X_test)\n",
    "    error = sqrt(mean_squared_error(y_test,knn_pred)) #calculate rmse\n",
    "    rmse_val.append(error) #store rmse values\n",
    "    print('RMSE value for k= ' , k , 'is:', error)\n",
    "\n",
    "\n",
    "curve = pd.DataFrame(rmse_val) #elbow curve \n",
    "curve.plot()\n",
    "\n",
    "#Thus, when we have k=1 we get a high RMSE value. We get the lowest RMSE value at k=4, so this is the best one to use.\n",
    "\n",
    "knn_model = KNeighborsClassifier(n_neighbors=4)\n",
    "\n",
    "knn_model.fit(X_train, y_train)\n",
    "knn_pred = knn_model.predict(X_test)\n",
    "\n",
    "acc_score = accuracy_score(y_test, knn_pred)\n",
    "print(\"The accuracy of the kNN trained model, where k=4, is: \", round(acc_score*100,2), \"%\")\n"
   ]
  },
  {
   "cell_type": "code",
   "execution_count": 290,
   "metadata": {},
   "outputs": [
    {
     "name": "stdout",
     "output_type": "stream",
     "text": [
      "Train Silhouette Score: 0.6328068091513465\n",
      "Test Silhouette Score: 0.6341009960346975\n"
     ]
    }
   ],
   "source": [
    "#Let's try doing the same using KMeans, an unsupervised learning algorithm, since our data sample is around 10k, to see if the data size is the one playing a role.\n",
    "\n",
    "n_clusters=3\n",
    "kmeans_model = KMeans(n_clusters= n_clusters, random_state=42)\n",
    " \n",
    "kmeans_model.fit(X_train)\n",
    " \n",
    "train_clusters = kmeans_model.predict(X_train)\n",
    "test_clusters = kmeans_model.predict(X_test)\n",
    "\n",
    "train_silhouette_score = silhouette_score(X_train, train_clusters)\n",
    "test_silhouette_score = silhouette_score(X_test, test_clusters)\n",
    "\n",
    "print(f\"Train Silhouette Score: {train_silhouette_score}\")\n",
    "print(f\"Test Silhouette Score: {test_silhouette_score}\")\n",
    "\n",
    "#The silhouette score of 0.63 indicates that the clusters formed by K-Means are relatively well-defined.\n"
   ]
  },
  {
   "cell_type": "code",
   "execution_count": 306,
   "metadata": {},
   "outputs": [
    {
     "data": {
      "image/png": "[encoded data removed]",
      "text/plain": [
       "<Figure size 720x432 with 1 Axes>"
      ]
     },
     "metadata": {
      "needs_background": "light"
     },
     "output_type": "display_data"
    }
   ],
   "source": [
    "#K-means visualization\n",
    "\n",
    "feature1 = 'score'\n",
    "feature2 = 'budget_x'\n",
    "\n",
    "# Visualizing clusters in the training data\n",
    "plt.figure(figsize=(10, 6))\n",
    "\n",
    "# Scatter plot with colors representing clusters\n",
    "#sns.scatterplot(x=X_train[feature1], y=X_train[feature2], hue=train_clusters, palette='viridis', s=50)\n",
    "sns.scatterplot(y=X_train[feature2], hue=train_clusters, palette='viridis', s=50)\n",
    "\n",
    "\n",
    "# Adding labels and title\n",
    "plt.xlabel(feature1)\n",
    "plt.ylabel(feature2)\n",
    "plt.title(f'Scatter Plot of K-Means Clusters (Training Data - Silhouette Score: {train_silhouette_score:.2f})')\n",
    "\n",
    "# Display the legend\n",
    "plt.legend(title='Clusters', loc='upper right')\n",
    "\n",
    "# Show the plot\n",
    "plt.show()"
   ]
  },
  {
   "cell_type": "code",
   "execution_count": null,
   "metadata": {},
   "outputs": [],
   "source": [
    "#We have now gotten a silhouette score using clustering methods for our dataset, as well as accuracy prediction scores using supervised learning algorithms.\n",
    "#Comparing the silhouette score to the accuracy score is not something that can be done, or that can give us any insight in our data's correlation.\n",
    "#We have now seen that, even though the clusters are well-defined and might provide exhibit patterns within the data, we haven't managed to create a model that is able to \n",
    "#predict the rating of a movie based on its budget. This means that these two might show correlation, but not necessarily causation.\n",
    "\n",
    "#To investigate if higher-budget films are ranked better on average in the IMDb dataset, we can perform some exploratory analysis. One approach would be to calculate\n",
    "#the average IMDb score for different budget categories and visualize the relationship. "
   ]
  },
  {
   "cell_type": "code",
   "execution_count": 262,
   "metadata": {},
   "outputs": [
    {
     "name": "stdout",
     "output_type": "stream",
     "text": [
      "  budget_category      score\n",
      "0             Low  65.323194\n",
      "1          Medium  65.010268\n",
      "2            High  64.686388\n",
      "3       Very High  59.548272\n"
     ]
    }
   ],
   "source": [
    "bins = [0, 10000000, 50000000, 100000000, float('inf')]\n",
    "labels = ['Low', 'Medium', 'High', 'Very High']\n",
    "\n",
    "# Create a new column for budget categories\n",
    "movies_data['budget_category'] = pd.cut(movies_data['budget_x'], bins=bins, labels=labels)\n",
    "\n",
    "average_scores_by_budget = movies_data.groupby('budget_category')['score'].mean().reset_index()\n",
    "print(average_scores_by_budget)\n",
    "\n",
    "#Interesting to see that average score is inversely proportional to the budget category"
   ]
  },
  {
   "cell_type": "code",
   "execution_count": 272,
   "metadata": {},
   "outputs": [
    {
     "data": {
      "image/png": "[encoded data removed]",
      "text/plain": [
       "<Figure size 720x432 with 1 Axes>"
      ]
     },
     "metadata": {
      "needs_background": "light"
     },
     "output_type": "display_data"
    },
    {
     "data": {
      "image/png": "[encoded data removed]",
      "text/plain": [
       "<Figure size 432x288 with 1 Axes>"
      ]
     },
     "metadata": {
      "needs_background": "light"
     },
     "output_type": "display_data"
    }
   ],
   "source": [
    "from sklearn.preprocessing import MinMaxScaler\n",
    "\n",
    "# Creating a bar plot\n",
    "plt.figure(figsize=(10, 6))\n",
    "sns.barplot(x='budget_category', y='score', data=average_scores_by_budget, palette='viridis')\n",
    "plt.title('Average IMDb Score by Budget Category')\n",
    "plt.xlabel('Budget Category')\n",
    "plt.ylabel('Average IMDb Score')\n",
    "plt.show()\n",
    "\n",
    "# Creating a graph. Will need to normalize the values as the score values is much lower than the budget values.\n",
    "\n",
    "scaler = MinMaxScaler()\n",
    "normalized_columns = ['score', 'budget_x']\n",
    "movies_data[normalized_columns] = scaler.fit_transform(movies_data[normalized_columns])\n",
    "\n",
    "plt.scatter(movies_data['score'], movies_data['budget_x'], label='Budget vs Rating')\n",
    "\n",
    "# Adding labels and title\n",
    "plt.xlabel('IMDb Rating')\n",
    "plt.ylabel('Film Budget')\n",
    "plt.title('Steven Spielberg presents: Budget vs Rating')\n",
    "\n",
    "plt.legend()\n",
    "plt.show()"
   ]
  },
  {
   "cell_type": "code",
   "execution_count": null,
   "metadata": {},
   "outputs": [],
   "source": [
    "#Finally, we'll use the Random Forest Classifier to predict the genre of a film based on the country of origin."
   ]
  },
  {
   "cell_type": "code",
   "execution_count": 324,
   "metadata": {},
   "outputs": [
    {
     "name": "stdout",
     "output_type": "stream",
     "text": [
      "0                  Drama\n",
      "1        Science Fiction\n",
      "2              Animation\n",
      "3              Animation\n",
      "4                 Action\n",
      "              ...       \n",
      "10173              Drama\n",
      "10174             Action\n",
      "10175              Drama\n",
      "10176             Action\n",
      "10177          Animation\n",
      "Name: genre, Length: 10052, dtype: object\n"
     ]
    },
    {
     "name": "stderr",
     "output_type": "stream",
     "text": [
      "C:\\Users\\apost\\AppData\\Local\\Temp\\ipykernel_52848\\1009012656.py:14: SettingWithCopyWarning: \n",
      "A value is trying to be set on a copy of a slice from a DataFrame.\n",
      "Try using .loc[row_indexer,col_indexer] = value instead\n",
      "\n",
      "See the caveats in the documentation: https://pandas.pydata.org/pandas-docs/stable/user_guide/indexing.html#returning-a-view-versus-a-copy\n",
      "  X['country'] = label_encoder.fit_transform(X['country'])\n"
     ]
    },
    {
     "name": "stdout",
     "output_type": "stream",
     "text": [
      "Accuracy: 0.23\n"
     ]
    }
   ],
   "source": [
    "from sklearn.ensemble import RandomForestClassifier\n",
    "from sklearn.preprocessing import LabelEncoder\n",
    "from sklearn.metrics import accuracy_score, classification_report\n",
    "\n",
    "df = pd.read_csv('imdb_movies.csv')\n",
    "df.shape\n",
    "df = df.dropna()\n",
    "\n",
    "X = df[['score', 'country']]\n",
    "y = df['genre'].apply(lambda x: str(x).split(',')[0])\n",
    "print(y)\n",
    "\n",
    "label_encoder = LabelEncoder()\n",
    "X['country'] = label_encoder.fit_transform(X['country'])\n",
    "\n",
    "X_train, X_test, y_train, y_test = train_test_split(X, y, test_size=0.4, random_state=42)\n",
    "\n",
    "model = RandomForestClassifier()\n",
    "model.fit(X_train, y_train)\n",
    "\n",
    "predictions = model.predict(X_test)\n",
    "\n",
    "accuracy = accuracy_score(y_test, predictions)\n",
    "print(f\"Accuracy: {accuracy:.2f}\")\n",
    "\n",
    "#print(classification_report(y_test, predictions))"
   ]
  },
  {
   "cell_type": "code",
   "execution_count": 330,
   "metadata": {},
   "outputs": [
    {
     "data": {
      "image/png": "[encoded data removed]",
      "text/plain": [
       "<Figure size 720x576 with 2 Axes>"
      ]
     },
     "metadata": {
      "needs_background": "light"
     },
     "output_type": "display_data"
    }
   ],
   "source": [
    "subset_size = 1000\n",
    "\n",
    "# We are sampling a smaller subset to visualize as the dataset is too big\n",
    "sample_indices = np.random.choice(len(y_test), size=subset_size, replace=False)\n",
    "subset_y_test = y_test.iloc[sample_indices]\n",
    "subset_predictions = predictions[sample_indices]\n",
    "\n",
    "\n",
    "conf_matrix_subset = confusion_matrix(subset_y_test, subset_predictions)\n",
    "\n",
    "\n",
    "plt.figure(figsize=(10, 8))\n",
    "sns.heatmap(conf_matrix_subset, annot=True, fmt='d', cmap='Blues', xticklabels=model.classes_, yticklabels=model.classes_)\n",
    "plt.xlabel('Predicted Genre')\n",
    "plt.ylabel('True Genre')\n",
    "plt.title(f'Confusion Matrix (Subset of {subset_size} samples)')\n",
    "plt.show()"
   ]
  },
  {
   "cell_type": "code",
   "execution_count": 357,
   "metadata": {},
   "outputs": [
    {
     "name": "stdout",
     "output_type": "stream",
     "text": [
      "The predicted genre is: Romance\n"
     ]
    }
   ],
   "source": [
    "#confusion matrix is a table used to evaluate the performance of a classification model.\n",
    "#It provides a detailed breakdown of the model's predictions and the actual outcomes for each class, in this case, in the context of a Random Forest Classifier.\n",
    "#We can see that in some genres more than others, the model did a decent job in predicting the genre, given the country of origin.\n",
    "#Finally, let's see what the Danish filmmakers are apparently good at:\n",
    "\n",
    "goodfilm = random.uniform(8.5, 10)\n",
    "\n",
    "new_data = {'score': goodfilm, 'country': 'DK'}\n",
    "new_df = pd.DataFrame([new_data])\n",
    "new_df['country'] = label_encoder.transform(new_df['country'])\n",
    "prediction = model.predict(new_df)\n",
    "\n",
    "\n",
    "print(f\"The predicted genre is: {prediction[0]}\")"
   ]
  }
 ],
 "metadata": {
  "kernelspec": {
   "display_name": "Python 3",
   "language": "python",
   "name": "python3"
  },
  "language_info": {
   "codemirror_mode": {
    "name": "ipython",
    "version": 3
   },
   "file_extension": ".py",
   "mimetype": "text/x-python",
   "name": "python",
   "nbconvert_exporter": "python",
   "pygments_lexer": "ipython3",
   "version": "3.12.1"
  }
 },
 "nbformat": 4,
 "nbformat_minor": 2
}
